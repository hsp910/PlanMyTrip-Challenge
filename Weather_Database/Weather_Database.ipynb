{
 "cells": [
  {
   "cell_type": "code",
   "execution_count": 1,
   "id": "8d5c8597",
   "metadata": {},
   "outputs": [],
   "source": [
    "# Import all outside packages and programs necessary.\n",
    "import pandas as pd\n",
    "import matplotlib.pyplot as plt\n",
    "import numpy as np\n",
    "import random\n",
    "import requests\n",
    "import json\n",
    "from citipy import citipy\n",
    "\n",
    "# API Key import\n",
    "from config import gkey"
   ]
  },
  {
   "cell_type": "code",
   "execution_count": 2,
   "id": "4c87e9a8",
   "metadata": {},
   "outputs": [],
   "source": [
    "# Create list of 2000 random latitudes and longitudes\n",
    "lat = []\n",
    "long = []\n",
    "\n",
    "lat = np.random.uniform(-90.000, 90.000, size=2000)\n",
    "long = np.random.uniform(-90.000, 90.000, size=2000)\n",
    "lat_long = zip(lat, long)\n",
    "lat_long\n",
    "\n",
    "coordinates = list(lat_long)"
   ]
  },
  {
   "cell_type": "code",
   "execution_count": 3,
   "id": "556238fc",
   "metadata": {},
   "outputs": [
    {
     "data": {
      "text/plain": [
       "728"
      ]
     },
     "execution_count": 3,
     "metadata": {},
     "output_type": "execute_result"
    }
   ],
   "source": [
    "# Create holding list for cities\n",
    "cities = []\n",
    "# Identify the nearest city.\n",
    "for coordinate in coordinates:\n",
    "    city = citipy.nearest_city(coordinate[0], coordinate[1]).city_name\n",
    "\n",
    "    # Make sure city is unique and add to list\n",
    "    if city not in cities:\n",
    "        cities.append(city)\n",
    "# Print the city count to confirm sufficient count.\n",
    "len(cities)"
   ]
  },
  {
   "cell_type": "code",
   "execution_count": null,
   "id": "88fcdf68",
   "metadata": {},
   "outputs": [
    {
     "name": "stdout",
     "output_type": "stream",
     "text": [
      "Beginning Data Retrieval     \n",
      "-----------------------------\n",
      "Processing Record 1 of Set 1 | yenagoa\n",
      "City not found. Skipping...\n",
      "Processing Record 2 of Set 1 | georgetown\n",
      "City not found. Skipping...\n",
      "Processing Record 3 of Set 1 | amboasary\n",
      "City not found. Skipping...\n",
      "Processing Record 4 of Set 1 | busselton\n",
      "City not found. Skipping...\n",
      "Processing Record 5 of Set 1 | bouar\n",
      "City not found. Skipping...\n",
      "Processing Record 6 of Set 1 | awbari\n",
      "City not found. Skipping...\n",
      "Processing Record 7 of Set 1 | belushya guba\n",
      "City not found. Skipping...\n",
      "Processing Record 8 of Set 1 | orebro\n",
      "City not found. Skipping...\n",
      "Processing Record 9 of Set 1 | jamestown\n",
      "City not found. Skipping...\n",
      "Processing Record 10 of Set 1 | skalistyy\n",
      "City not found. Skipping...\n",
      "Processing Record 11 of Set 1 | taoudenni\n",
      "City not found. Skipping...\n",
      "Processing Record 12 of Set 1 | punta arenas\n",
      "City not found. Skipping...\n",
      "Processing Record 13 of Set 1 | cidreira\n",
      "City not found. Skipping...\n",
      "Processing Record 14 of Set 1 | hamilton\n",
      "City not found. Skipping...\n",
      "Processing Record 15 of Set 1 | mogadishu\n",
      "City not found. Skipping...\n",
      "Processing Record 16 of Set 1 | tocopilla\n",
      "City not found. Skipping...\n",
      "Processing Record 17 of Set 1 | laguna\n",
      "City not found. Skipping...\n",
      "Processing Record 18 of Set 1 | vila franca do campo\n",
      "City not found. Skipping...\n",
      "Processing Record 19 of Set 1 | barentsburg\n",
      "City not found. Skipping...\n",
      "Processing Record 20 of Set 1 | dimona\n",
      "City not found. Skipping...\n",
      "Processing Record 21 of Set 1 | illoqqortoormiut\n",
      "City not found. Skipping...\n",
      "Processing Record 22 of Set 1 | kavaratti\n",
      "City not found. Skipping...\n",
      "Processing Record 23 of Set 1 | dikson\n",
      "City not found. Skipping...\n",
      "Processing Record 24 of Set 1 | ilebo\n",
      "City not found. Skipping...\n",
      "Processing Record 25 of Set 1 | jojoima\n",
      "City not found. Skipping...\n",
      "Processing Record 26 of Set 1 | ushuaia\n",
      "City not found. Skipping...\n",
      "Processing Record 27 of Set 1 | vardo\n",
      "City not found. Skipping...\n",
      "Processing Record 28 of Set 1 | porto novo\n",
      "City not found. Skipping...\n",
      "Processing Record 29 of Set 1 | bredasdorp\n",
      "City not found. Skipping...\n",
      "Processing Record 30 of Set 1 | angoche\n",
      "City not found. Skipping...\n",
      "Processing Record 31 of Set 1 | victoria\n",
      "City not found. Skipping...\n",
      "Processing Record 32 of Set 1 | castro\n",
      "City not found. Skipping...\n",
      "Processing Record 33 of Set 1 | bereda\n"
     ]
    }
   ],
   "source": [
    "# Setting up urls\n",
    "url = \"http://api.openweathermap.org/data/2.5/weather?units=Imperial&APPID=\" + gkey\n",
    "\n",
    "# Create counters.\n",
    "record_count = 1\n",
    "set_count = 1\n",
    "\n",
    "# Begin looping through the cities\n",
    "print(\"Beginning Data Retrieval     \")\n",
    "print(\"-----------------------------\")\n",
    "city_data = []\n",
    "\n",
    "for i, city in enumerate(cities):\n",
    "    # Group cities in sets of 50 for logging purposes.\n",
    "    if (i % 50 == 0 and i >= 50):\n",
    "        set_count += 1\n",
    "        record_count = 1\n",
    "    # Create endpoint URL with each city.\n",
    "    city_url = \"http://api.openweathermap.org/data/2.5/weather?\"+ \"&q=\" + city.replace(\" \",\"+\") + \"&units=Imperial&appid=\" + gkey\n",
    "\n",
    "    # Log the URL, record, and set numbers and the city.\n",
    "    print(f\"Processing Record {record_count} of Set {set_count} | {city}\")\n",
    "    # Add 1 to the record count.\n",
    "    record_count += 1\n",
    "    \n",
    "    try:\n",
    "        # Parse the JSON and retrieve data.\n",
    "        city_weather = requests.get(city_url).json()\n",
    "        # Parse out the needed data.\n",
    "        city_lat = city_weather[\"coord\"][\"lat\"]\n",
    "        city_long = city_weather[\"coord\"][\"lon\"]\n",
    "        city_max_temp = city_weather[\"main\"][\"temp_max\"]\n",
    "        city_humidity = city_weather[\"main\"][\"humidity\"]\n",
    "        city_clouds = city_weather[\"clouds\"][\"all\"]\n",
    "        city_wind = city_weather[\"wind\"][\"speed\"]\n",
    "        city_country = city_weather[\"sys\"][\"country\"]\n",
    "        city_description = city_weather[\"weather\"][\"description\"]\n",
    "        # Append the city information into city_data list.\n",
    "        city_data.append({\"City\": city.title(),\n",
    "                          \"Country\": city_country,\n",
    "                          \"Lat\": city_lat,\n",
    "                          \"Long\": city_long,\n",
    "                          \"Max Temp\": city_max_temp,\n",
    "                          \"Humidity\": city_humidity,\n",
    "                          \"Cloudiness\": city_clouds,\n",
    "                          \"Wind Speed\": city_wind,\n",
    "                          \"Current Description\": city_description})\n",
    "    # If an error is experienced, skip the city.\n",
    "    except:\n",
    "        print(\"City not found. Skipping...\")\n",
    "        pass\n",
    "\n",
    "print(\"-----------------------------\")\n",
    "print(\"Data Retrieval Complete      \")\n",
    "print(\"-----------------------------\")\n"
   ]
  },
  {
   "cell_type": "code",
   "execution_count": 5,
   "id": "bf9e031c",
   "metadata": {},
   "outputs": [
    {
     "data": {
      "text/html": [
       "<div>\n",
       "<style scoped>\n",
       "    .dataframe tbody tr th:only-of-type {\n",
       "        vertical-align: middle;\n",
       "    }\n",
       "\n",
       "    .dataframe tbody tr th {\n",
       "        vertical-align: top;\n",
       "    }\n",
       "\n",
       "    .dataframe thead th {\n",
       "        text-align: right;\n",
       "    }\n",
       "</style>\n",
       "<table border=\"1\" class=\"dataframe\">\n",
       "  <thead>\n",
       "    <tr style=\"text-align: right;\">\n",
       "      <th></th>\n",
       "    </tr>\n",
       "  </thead>\n",
       "  <tbody>\n",
       "  </tbody>\n",
       "</table>\n",
       "</div>"
      ],
      "text/plain": [
       "Empty DataFrame\n",
       "Columns: []\n",
       "Index: []"
      ]
     },
     "execution_count": 5,
     "metadata": {},
     "output_type": "execute_result"
    }
   ],
   "source": [
    "city_data_df = pd.DataFrame(city_data)\n",
    "city_data_df.head(10)"
   ]
  },
  {
   "cell_type": "code",
   "execution_count": null,
   "id": "9ebf1439",
   "metadata": {},
   "outputs": [],
   "source": []
  }
 ],
 "metadata": {
  "kernelspec": {
   "display_name": "Python 3",
   "language": "python",
   "name": "python3"
  },
  "language_info": {
   "codemirror_mode": {
    "name": "ipython",
    "version": 3
   },
   "file_extension": ".py",
   "mimetype": "text/x-python",
   "name": "python",
   "nbconvert_exporter": "python",
   "pygments_lexer": "ipython3",
   "version": "3.8.8"
  }
 },
 "nbformat": 4,
 "nbformat_minor": 5
}
